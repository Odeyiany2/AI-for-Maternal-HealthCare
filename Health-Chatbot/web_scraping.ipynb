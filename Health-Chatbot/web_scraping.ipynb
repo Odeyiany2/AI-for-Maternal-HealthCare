{
 "cells": [
  {
   "cell_type": "markdown",
   "id": "dfd0ade2",
   "metadata": {},
   "source": [
    "## **Data Preparation**"
   ]
  },
  {
   "cell_type": "markdown",
   "id": "40dc1fe2",
   "metadata": {},
   "source": [
    "Scraping all relevant data needed on maternal health care and reproductive system from the appropriate websites. \n",
    "\n",
    "World Health Organization"
   ]
  },
  {
   "cell_type": "code",
   "execution_count": 6,
   "id": "1f623ff5",
   "metadata": {},
   "outputs": [
    {
     "name": "stdout",
     "output_type": "stream",
     "text": [
      "Libraries imported\n"
     ]
    }
   ],
   "source": [
    "#libraries\n",
    "import requests\n",
    "from bs4 import BeautifulSoup\n",
    "import re\n",
    "import json\n",
    "import os\n",
    "from urllib.parse import urlparse\n",
    "#from scripts.loggingsetup import error_logger, success_logger\n",
    "print(\"Libraries imported\")"
   ]
  },
  {
   "cell_type": "code",
   "execution_count": null,
   "id": "59831429",
   "metadata": {},
   "outputs": [],
   "source": [
    "#function to fetch and save structured data from a web page\n",
    "\n",
    "def get_data(url):\n",
    "    try:\n",
    "        # Get the data from the website\n",
    "        headers = {\"User-Agent\": \"Mozilla/5.0\"}\n",
    "        response = requests.get(url, headers=headers)\n",
    "        response.raise_for_status()  # Raise error if bad response\n",
    "\n",
    "        # Parse the data using BeautifulSoup\n",
    "        soup = BeautifulSoup(response.content, 'html.parser')\n",
    "\n",
    "        # Find all sections with article content\n",
    "        sections = soup.find_all(\"div\", {\"data-testid\": \"tabbed-article-section\"})\n",
    "\n",
    "        if not sections:\n",
    "            print(\"❌ No article content found.\")\n",
    "            return None\n",
    "\n",
    "        # Combine all the article text\n",
    "        article_text = \"\"\n",
    "\n",
    "        for section in sections:\n",
    "            for tag in section.find_all(['h2', 'h3', 'p'])\n",
    "                text = tag.get_text(strip=True)\n",
    "                if not text:\n",
    "                    continue\n",
    "            #ensuring that there is space between headings and paragraphs\n",
    "                if tag.name == 'h2':\n",
    "                    article_text += f\"\\n\\n## {text}\\n\\n\"\n",
    "                elif tag.name == 'h3':\n",
    "                    article_text += f\"\\n\\n### {text}\\n\\n\"\n",
    "                else:  # paragraph\n",
    "                    article_text += f\"{text}\\n\\n\"\n",
    "\n",
    "        # Generate a file name based on URL path\n",
    "        path = urlparse(url).path.strip('/')\n",
    "        file_name = path.replace('/', '_') or 'index'\n",
    "        file_path = f\"{file_name}.txt\"\n",
    "\n",
    "        # Save to file in the data folder\n",
    "        data_folder = r\"C:\\Projects_ML\\AI-for-Maternal-HealthCare\\data\"\n",
    "        if not os.path.exists(data_folder):\n",
    "            os.makedirs(data_folder)\n",
    "\n",
    "        full_path = os.path.join(data_folder, file_path)\n",
    "        with open(full_path, 'w', encoding='utf-8') as f:\n",
    "            f.write(article_text)\n",
    "\n",
    "        print(f\"✅ Data saved to {full_path}\")\n",
    "        return article_text\n",
    "\n",
    "    except Exception as e:\n",
    "        print(f\"❌ Error processing {url}: {str(e)}\")\n",
    "        return None\n"
   ]
  },
  {
   "cell_type": "code",
   "execution_count": 27,
   "id": "71d50ae4",
   "metadata": {},
   "outputs": [
    {
     "name": "stdout",
     "output_type": "stream",
     "text": [
      "✅ Data saved to C:\\Projects_ML\\AI-for-Maternal-HealthCare\\data\\depression_depression-busters-for-new-moms.txt\n"
     ]
    },
    {
     "data": {
      "text/plain": [
       "'Postpartum depression can affect anyone. Here are some tips for coping with it.\\n\\nThe birth of a baby can bring a lot of change to someone’s life. Some of these changes are expected, like lots of dirty diapers, new feeding schedules, and sleep deprivation.\\n\\nBut some changes are less expected — such as those that affect your mental and emotional health, likepostpartum depression (PPD).\\n\\nPPD is a form ofmajor depressive disorder (MDD)that develops in a parent in the year following the birth of their child. Many factors maycause postpartum depression.\\n\\n“It’s similar to major depression in that the main symptoms are feeling depressed and disinterested,” explains Kristin Calverley, a licensed psychologist in Texas certified in perinatal mental health and owner ofInner Balance Psychological Services.\\n\\nOther symptoms you might experience include, but aren’t limited, to:\\n\\nIf you’re experiencing any of these symptoms for several days or weeks on end, you might be experiencing PPD. Whether or not you’re the parent who gave birth to your baby, PPD can affect you.\\n\\nBut there are strategies that can help you manage your symptoms. Consider the following tips to help you cope:\\n\\n'"
      ]
     },
     "execution_count": 27,
     "metadata": {},
     "output_type": "execute_result"
    }
   ],
   "source": [
    "#data extraction\n",
    "get_data(\"https://psychcentral.com/depression/depression-busters-for-new-moms\")"
   ]
  },
  {
   "cell_type": "code",
   "execution_count": null,
   "id": "a55341bf",
   "metadata": {},
   "outputs": [],
   "source": [
    "#function 2 \n",
    "def get_data2(url):\n",
    "    try:\n",
    "        import requests\n",
    "        from bs4 import BeautifulSoup\n",
    "        from urllib.parse import urlparse\n",
    "        import os\n",
    "\n",
    "        headers = {\"User-Agent\": \"Mozilla/5.0\"}\n",
    "        response = requests.get(url, headers=headers)\n",
    "        response.raise_for_status()\n",
    "\n",
    "        soup = BeautifulSoup(response.content, 'html.parser')\n",
    "\n",
    "        # Look for the main content div\n",
    "        article_container = soup.find(\"div\", class_=\"entry-content\")\n",
    "        if not article_container:\n",
    "            print(\"❌ Could not find article container with class 'entry-content'.\")\n",
    "            return None\n",
    "\n",
    "        # Extract text content from all paragraphs and headings\n",
    "        article_text = \"\"\n",
    "        for tag in article_container.find_all(['p', 'h2', 'h3']):\n",
    "            text = tag.get_text(strip=True)\n",
    "            if text:\n",
    "                article_text += text + \"\\n\\n\"\n",
    "\n",
    "        # Create a clean filename from the URL\n",
    "        path = urlparse(url).path.strip('/')\n",
    "        file_name = path.replace('/', '_') or 'index'\n",
    "        file_path = f\"{file_name}.txt\"\n",
    "\n",
    "        # Save to file\n",
    "        data_folder = r\"C:\\Projects_ML\\AI-for-Maternal-HealthCare\\data\"\n",
    "        os.makedirs(data_folder, exist_ok=True)\n",
    "        full_path = os.path.join(data_folder, file_path)\n",
    "\n",
    "        with open(full_path, 'w', encoding='utf-8') as f:\n",
    "            f.write(article_text)\n",
    "\n",
    "        print(f\"✅ Article saved to {full_path}\")\n",
    "        return article_text\n",
    "\n",
    "    except Exception as e:\n",
    "        print(f\"❌ Error processing {url}: {str(e)}\")\n",
    "        return None\n"
   ]
  }
 ],
 "metadata": {
  "kernelspec": {
   "display_name": "venv",
   "language": "python",
   "name": "python3"
  },
  "language_info": {
   "codemirror_mode": {
    "name": "ipython",
    "version": 3
   },
   "file_extension": ".py",
   "mimetype": "text/x-python",
   "name": "python",
   "nbconvert_exporter": "python",
   "pygments_lexer": "ipython3",
   "version": "3.12.10"
  }
 },
 "nbformat": 4,
 "nbformat_minor": 5
}
