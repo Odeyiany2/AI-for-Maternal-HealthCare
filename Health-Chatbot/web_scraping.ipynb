{
 "cells": [
  {
   "cell_type": "markdown",
   "id": "dfd0ade2",
   "metadata": {},
   "source": [
    "## **Data Preparation**"
   ]
  },
  {
   "cell_type": "markdown",
   "id": "40dc1fe2",
   "metadata": {},
   "source": [
    "Scraping all relevant data needed on maternal health care and reproductive system from the appropriate websites. \n",
    "\n",
    "World Health Organization"
   ]
  },
  {
   "cell_type": "code",
   "execution_count": 4,
   "id": "1f623ff5",
   "metadata": {},
   "outputs": [
    {
     "ename": "ModuleNotFoundError",
     "evalue": "No module named 'scripts.loggingsetup'",
     "output_type": "error",
     "traceback": [
      "\u001b[31m---------------------------------------------------------------------------\u001b[39m",
      "\u001b[31mModuleNotFoundError\u001b[39m                       Traceback (most recent call last)",
      "\u001b[36mCell\u001b[39m\u001b[36m \u001b[39m\u001b[32mIn[4]\u001b[39m\u001b[32m, line 8\u001b[39m\n\u001b[32m      6\u001b[39m \u001b[38;5;28;01mimport\u001b[39;00m\u001b[38;5;250m \u001b[39m\u001b[34;01mos\u001b[39;00m\n\u001b[32m      7\u001b[39m \u001b[38;5;28;01mfrom\u001b[39;00m\u001b[38;5;250m \u001b[39m\u001b[34;01murllib\u001b[39;00m\u001b[34;01m.\u001b[39;00m\u001b[34;01mparse\u001b[39;00m\u001b[38;5;250m \u001b[39m\u001b[38;5;28;01mimport\u001b[39;00m urlparse\n\u001b[32m----> \u001b[39m\u001b[32m8\u001b[39m \u001b[38;5;28;01mfrom\u001b[39;00m\u001b[38;5;250m \u001b[39m\u001b[34;01mscripts\u001b[39;00m\u001b[34;01m.\u001b[39;00m\u001b[34;01mloggingsetup\u001b[39;00m\u001b[38;5;250m \u001b[39m\u001b[38;5;28;01mimport\u001b[39;00m error_logger, success_logger\n\u001b[32m      9\u001b[39m \u001b[38;5;28mprint\u001b[39m(\u001b[33m\"\u001b[39m\u001b[33mLibraries imported\u001b[39m\u001b[33m\"\u001b[39m)\n",
      "\u001b[31mModuleNotFoundError\u001b[39m: No module named 'scripts.loggingsetup'"
     ]
    }
   ],
   "source": [
    "#libraries\n",
    "import requests\n",
    "from bs4 import BeautifulSoup\n",
    "import re\n",
    "import json\n",
    "import os\n",
    "from urllib.parse import urlparse\n",
    "from scripts.loggingsetup import error_logger, success_logger\n",
    "print(\"Libraries imported\")"
   ]
  },
  {
   "cell_type": "code",
   "execution_count": null,
   "id": "59831429",
   "metadata": {},
   "outputs": [],
   "source": [
    "#function to fetch and save structured data from a web page\n",
    "def get_data(url):\n",
    "    try:\n",
    "        #get the data from the website\n",
    "        response = requests.get(url)\n",
    "        response.raise_for_status()  #raise error if bad response\n",
    "\n",
    "        #parse the data using BeautifulSoup\n",
    "        soup = BeautifulSoup(response.text, 'html.parser')\n",
    "\n",
    "        #find the script tag that contains the data\n",
    "        script_tag = soup.find('script', text=re.compile('window.__PRELOADED_STATE__'))\n",
    "\n",
    "        if not script_tag:\n",
    "            print(\"No preloaded state script found.\")\n",
    "            return None\n",
    "\n",
    "        #extract and clean JSON-like string\n",
    "        raw_data = script_tag.string.split('=', 1)[1].strip().rstrip(';')\n",
    "        \n",
    "        #convert to dictionary\n",
    "        data = json.loads(raw_data)\n",
    "\n",
    "        #generate a file name based on URL path\n",
    "        path = urlparse(url).path.strip('/')\n",
    "        file_name = path.replace('/', '_') or 'index'\n",
    "        file_path = f\"{file_name}.json\"\n",
    "\n",
    "        #save to file\n",
    "        with open(file_path, 'w', encoding='utf-8') as f:\n",
    "            json.dump(data, f, indent=2, ensure_ascii=False)\n",
    "\n",
    "        print(f\"✅ Data saved to {file_path}\")\n",
    "        success_logger.info(\"Successfully saved data to file path\")\n",
    "        return data\n",
    "    except Exception as e:\n",
    "        print(f\"❌ Error processing {url}: {str(e)}\")\n",
    "        error_logger.error(f\"Error in processing {url}: {e}\")\n",
    "        "
   ]
  }
 ],
 "metadata": {
  "kernelspec": {
   "display_name": "venv",
   "language": "python",
   "name": "python3"
  },
  "language_info": {
   "codemirror_mode": {
    "name": "ipython",
    "version": 3
   },
   "file_extension": ".py",
   "mimetype": "text/x-python",
   "name": "python",
   "nbconvert_exporter": "python",
   "pygments_lexer": "ipython3",
   "version": "3.12.10"
  }
 },
 "nbformat": 4,
 "nbformat_minor": 5
}
