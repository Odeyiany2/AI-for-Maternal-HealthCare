{
 "cells": [
  {
   "cell_type": "markdown",
   "id": "dfd0ade2",
   "metadata": {},
   "source": [
    "## **Data Preparation**"
   ]
  },
  {
   "cell_type": "markdown",
   "id": "40dc1fe2",
   "metadata": {},
   "source": [
    "Scraping all relevant data needed on maternal health care and reproductive system from the appropriate websites. \n",
    "\n",
    "World Health Organization"
   ]
  },
  {
   "cell_type": "code",
   "execution_count": 6,
   "id": "1f623ff5",
   "metadata": {},
   "outputs": [
    {
     "name": "stdout",
     "output_type": "stream",
     "text": [
      "Libraries imported\n"
     ]
    }
   ],
   "source": [
    "#libraries\n",
    "import requests\n",
    "from bs4 import BeautifulSoup\n",
    "import re\n",
    "import json\n",
    "import os\n",
    "from urllib.parse import urlparse\n",
    "#from scripts.loggingsetup import error_logger, success_logger\n",
    "print(\"Libraries imported\")"
   ]
  },
  {
   "cell_type": "code",
   "execution_count": 29,
   "id": "59831429",
   "metadata": {},
   "outputs": [],
   "source": [
    "#function to fetch and save structured data from a web page\n",
    "\n",
    "def get_data(url):\n",
    "    try:\n",
    "        # Get the data from the website\n",
    "        headers = {\"User-Agent\": \"Mozilla/5.0\"}\n",
    "        response = requests.get(url, headers=headers)\n",
    "        response.raise_for_status()  # Raise error if bad response\n",
    "\n",
    "        # Parse the data using BeautifulSoup\n",
    "        soup = BeautifulSoup(response.content, 'html.parser')\n",
    "\n",
    "        # Find all sections with article content\n",
    "        sections = soup.find_all(\"div\", {\"data-testid\": \"tabbed-article-section\"})\n",
    "\n",
    "        if not sections:\n",
    "            print(\"❌ No article content found.\")\n",
    "            return None\n",
    "\n",
    "        # Combine all the article text\n",
    "        article_text = \"\"\n",
    "\n",
    "        for section in sections:\n",
    "            for tag in section.find_all(['h2', 'h3', 'p']):\n",
    "                text = tag.get_text(strip=True)\n",
    "                if not text:\n",
    "                    continue\n",
    "            #ensuring that there is space between headings and paragraphs\n",
    "                if tag.name == 'h2':\n",
    "                    article_text += f\"\\n\\n## {text}\\n\\n\"\n",
    "                elif tag.name == 'h3':\n",
    "                    article_text += f\"\\n\\n### {text}\\n\\n\"\n",
    "                else:  # paragraph\n",
    "                    article_text += f\"{text}\\n\\n\"\n",
    "\n",
    "        # Generate a file name based on URL path\n",
    "        path = urlparse(url).path.strip('/')\n",
    "        file_name = path.replace('/', '_') or 'index'\n",
    "        file_path = f\"{file_name}.txt\"\n",
    "\n",
    "        # Save to file in the data folder\n",
    "        data_folder = r\"C:\\Projects_ML\\AI-for-Maternal-HealthCare\\data\"\n",
    "        if not os.path.exists(data_folder):\n",
    "            os.makedirs(data_folder)\n",
    "\n",
    "        full_path = os.path.join(data_folder, file_path)\n",
    "        with open(full_path, 'w', encoding='utf-8') as f:\n",
    "            f.write(article_text)\n",
    "\n",
    "        print(f\"✅ Data saved to {full_path}\")\n",
    "        return article_text\n",
    "\n",
    "    except Exception as e:\n",
    "        print(f\"❌ Error processing {url}: {str(e)}\")\n",
    "        return None\n"
   ]
  },
  {
   "cell_type": "code",
   "execution_count": 30,
   "id": "71d50ae4",
   "metadata": {},
   "outputs": [
    {
     "name": "stdout",
     "output_type": "stream",
     "text": [
      "✅ Data saved to C:\\Projects_ML\\AI-for-Maternal-HealthCare\\data\\depression_depression-busters-for-new-moms.txt\n"
     ]
    },
    {
     "data": {
      "text/plain": [
       "\"Postpartum depression can affect anyone. Here are some tips for coping with it.\\n\\nThe birth of a baby can bring a lot of change to someone’s life. Some of these changes are expected, like lots of dirty diapers, new feeding schedules, and sleep deprivation.\\n\\nBut some changes are less expected — such as those that affect your mental and emotional health, likepostpartum depression (PPD).\\n\\nPPD is a form ofmajor depressive disorder (MDD)that develops in a parent in the year following the birth of their child. Many factors maycause postpartum depression.\\n\\n“It’s similar to major depression in that the main symptoms are feeling depressed and disinterested,” explains Kristin Calverley, a licensed psychologist in Texas certified in perinatal mental health and owner ofInner Balance Psychological Services.\\n\\nOther symptoms you might experience include, but aren’t limited, to:\\n\\nIf you’re experiencing any of these symptoms for several days or weeks on end, you might be experiencing PPD. Whether or not you’re the parent who gave birth to your baby, PPD can affect you.\\n\\nBut there are strategies that can help you manage your symptoms. Consider the following tips to help you cope:\\n\\n\\n\\n## Try to give yourself grace\\n\\n“Recognize that your experience is valid, and it is not your fault that you are ‘struggling’,” saysKara Kushnir, a New Jersey licensed clinical social worker trained in perinatal and postpartum mental health.\\n\\nYou’re not a bad parent because you were diagnosed with PPD — and things will get better with treatment and time. PPD can affect both the birthing parent and thenon-birthing parent.\\n\\nAccording to a 2021 study, roughly1 in 7women experience PPD.\\n\\nA 2021 systematic review and meta-analysis also suggests that somewhere between1.2% and 25.5%of men develop paternal postpartum disorder.\\n\\nLike most forms of depression, researchers aren’t exactly sure whatcauses PPD. Instead, it appears that several risk factors contribute to it, including:\\n\\nIn other words, saysSandy J. Green, a certified lactation counselor, postpartum doula, and the founder of Taking Care of Mama, “it is likely caused by various factors — none of which is your fault.”\\n\\n\\n\\n## Try to prioritize sleep where and when you can\\n\\nIt might sound cliche to “sleep when the baby sleeps” but the truth is, sleep is incredibly important to your mental health. So when and if you can sleep, you should. (The laundry or dirty dishes can wait.)\\n\\nAccording to a2018 study, sleep deprivation is believed to increase the chances of developing PPD.\\n\\nA large2016 studyindicated that both parents are more likely to have depressive symptoms if the birthing parent sleeps poorly.\\n\\nAnother2016 studyinvolving 360 women in Ardabil, Iran suggested that women that didn’t sleep well were 3 times more likely to experience PPD compared to postpartum women with good sleep quality.\\n\\nA large2015 studyalso found that suicidal ideation increased in women with PPD that were sleep-deprived.\\n\\n\\n\\n## Consider making time to exercise\\n\\nGoing to the gym may seem like the last thing you want to do when there is a newborn at home to take care of, but making time to get your body moving — even if it’s just a short walk around the park — can be helpful.\\n\\n“Exercise allows you to release endorphins, establish routine, and mentally disengage in a way that is both productive and healthy,” saysNicholas Hardy, a psychotherapist in Houston.\\n\\nOf course, if you’re the birthing parent, make sure you allow your body time to heal before engaging in strenuousexercise.\\n\\nConsider talking with your doctor about what activities are safe for you to do within the first 3 months after bringing the baby home.\\n\\n\\n\\n## Try to prioritize your hygiene\\n\\nCaring for a newborn can be all-consuming between the round-the-clock feedings, dirty diapers, and trying to fit naps in. So it’s easy to put off taking a shower, washing your hair, brushing your teeth, or even scrubbing your face.\\n\\nWhen our hygiene goes unnoticed, though, it can impact our self-esteem and further isolate us from our support networks because we don’t want others to see us not looking our best.\\n\\n\\n\\n## Consider carving out time for other self-care\\n\\nIt’s okay to take a short break tomeditate, read a book, or even schedule a massage.\\n\\nYou may be surprised just how much these short moments of self-care might help lessen your symptoms of depression.\\n\\n\\n\\n## Do one chore or outside activity\\n\\nEven if you just run to the corner bakery for a muffin, leaving the house for a little while each day may decrease your feelings of loneliness or isolation.\\n\\nPlus, it can help break the repetitive cycle of caring for your newborn by helping you feel like you’re accomplishing at least one thing on your to-do list each day.\\n\\nTry to avoid overloading yourself with tasks to accomplish. It might just make you feel more anxious or overwhelmed.\\n\\n\\n\\n## Eat nourishing meals when you’re able\\n\\nEating healthfully is important whether you’re the birthing parent and are breastfeeding, you’re feeding your baby formula, or you’re the non-birthing parent.\\n\\nA large2021 studyindicated that diets lacking vegetables and food variety were associated with PPD in Chinese lactating women.\\n\\nEating nutritious foods can help you feel better and give your body the nutrients you need while caring for your baby and yourself.\\n\\n\\n\\n## Try talking to those you trust about what you’re going through\\n\\n“It is important to identify individuals and communities that allow you to openly express your feelings,” says Hardy. “When we suppress our emotions, [they] build up and create friction in other areas of our lives.”\\n\\nFor example, consider talking to your partner, family, or friends. Speaking with loved ones may help them better understand what you’re going through, and how they can better support you.\\n\\n\\n\\n## It’s OK to ask for help\\n\\nIn addition to telling others what you’re going through, consider asking people you trust for help. Support from those you trust can help you find the time for the other things, such as more sleep andself-care.\\n\\nConsider using this time to explore what you may need to help you relax and feel better.\\n\\n\\n\\n## Consider joining a support group\\n\\nIf you don’t feel like you can truly talk to your family or friends about what you’re going through — or don’t feel like they can give you the kind of support you need — consider reaching out to a therapist or support group.\\n\\nFor example, Calverley says, “there are many free support groups both online and throughout the country that cater specifically to moms who are ‘struggling.'”\\n\\nThere are also support groups for non-birthing parents where you can meet and talk with parents going through similar experiences.\\n\\nIf you’re not sure where to find a group, check outpostpartum support international, which offers a directory of support groups that can be helpful.\\n\\n“When I was a new father, I got a lot more out of talking to men that I admired as good fathers about their early adventures of being a dad,” says Nolan Davis, licensed marriage and family therapist atThriveworks in Charlotte, North Carolina.\\n\\n“Those stories gave me a lot of encouragement that not only can I do this, but that any ‘mistakes’ I make along the way are likely not going to ruin my child for the rest of their life.”\\n\\n“Knowing that I had within me everything I needed to be a good dad gave me the confidence to embrace my role as a father.”\\n\\n\\n\\n## Consider seeking professional support\\n\\n“The biggest tip I have for new mothers is not to wait to get help,” says Green. “Online therapy is an excellent option as it’s affordable and very convenient.”\\n\\nSome parents, particularly those who are breastfeeding or chestfeeding, sometimes delay treatment out of fear that treatment might involve medication that isn’t safe if passed to the baby through breastmilk.\\n\\nHowever, Green continues, “many antidepressants and anti-anxiety medications are safe while breastfeeding [so] there’s no shame in talking to your doctor about these medications, in conjunction with therapy, if you’re suffering.”\\n\\nSome people also benefit fromcouples therapy, particularly if their diagnosis has affected their relationship with their partner.\\n\\n\\n\\n## Next steps\\n\\nLife with PPD can feel difficult but remember it doesn’t have to last forever — or take over your life. With treatment and self-care, you can manage your symptoms and begin to feel better.\\n\\nPPD can be diagnosed by a qualified mental health professional or doctor with clinical questioning and theEdinburgh Postnatal Depression Scale.\\n\\nTreatment may involve talk therapy, antidepressants, or a combination of both.\\n\\nThere are also several helpful books that you might want to consider reading, including:\\n\\n\""
      ]
     },
     "execution_count": 30,
     "metadata": {},
     "output_type": "execute_result"
    }
   ],
   "source": [
    "#data extraction\n",
    "get_data(\"https://psychcentral.com/depression/depression-busters-for-new-moms\")"
   ]
  },
  {
   "cell_type": "code",
   "execution_count": null,
   "id": "a55341bf",
   "metadata": {},
   "outputs": [],
   "source": [
    "#function 2 \n",
    "def get_data2(url):\n",
    "    try:\n",
    "        import requests\n",
    "        from bs4 import BeautifulSoup\n",
    "        from urllib.parse import urlparse\n",
    "        import os\n",
    "\n",
    "        headers = {\"User-Agent\": \"Mozilla/5.0\"}\n",
    "        response = requests.get(url, headers=headers)\n",
    "        response.raise_for_status()\n",
    "\n",
    "        soup = BeautifulSoup(response.content, 'html.parser')\n",
    "\n",
    "        # Look for the main content div\n",
    "        article_container = soup.find(\"div\", class_=\"entry-content\")\n",
    "        if not article_container:\n",
    "            print(\"❌ Could not find article container with class 'entry-content'.\")\n",
    "            return None\n",
    "\n",
    "        # Extract text content from all paragraphs and headings\n",
    "        article_text = \"\"\n",
    "        for tag in article_container.find_all(['p', 'h2', 'h3']):\n",
    "            text = tag.get_text(strip=True)\n",
    "            if text:\n",
    "                article_text += text + \"\\n\\n\"\n",
    "\n",
    "        # Create a clean filename from the URL\n",
    "        path = urlparse(url).path.strip('/')\n",
    "        file_name = path.replace('/', '_') or 'index'\n",
    "        file_path = f\"{file_name}.txt\"\n",
    "\n",
    "        # Save to file\n",
    "        data_folder = r\"C:\\Projects_ML\\AI-for-Maternal-HealthCare\\data\"\n",
    "        os.makedirs(data_folder, exist_ok=True)\n",
    "        full_path = os.path.join(data_folder, file_path)\n",
    "\n",
    "        with open(full_path, 'w', encoding='utf-8') as f:\n",
    "            f.write(article_text)\n",
    "\n",
    "        print(f\"✅ Article saved to {full_path}\")\n",
    "        return article_text\n",
    "\n",
    "    except Exception as e:\n",
    "        print(f\"❌ Error processing {url}: {str(e)}\")\n",
    "        return None\n"
   ]
  }
 ],
 "metadata": {
  "kernelspec": {
   "display_name": "venv",
   "language": "python",
   "name": "python3"
  },
  "language_info": {
   "codemirror_mode": {
    "name": "ipython",
    "version": 3
   },
   "file_extension": ".py",
   "mimetype": "text/x-python",
   "name": "python",
   "nbconvert_exporter": "python",
   "pygments_lexer": "ipython3",
   "version": "3.12.10"
  }
 },
 "nbformat": 4,
 "nbformat_minor": 5
}
