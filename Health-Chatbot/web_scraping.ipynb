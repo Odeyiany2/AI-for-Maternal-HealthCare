{
 "cells": [
  {
   "cell_type": "markdown",
   "id": "dfd0ade2",
   "metadata": {},
   "source": [
    "## **Data Preparation**"
   ]
  },
  {
   "cell_type": "markdown",
   "id": "40dc1fe2",
   "metadata": {},
   "source": [
    "Scraping all relevant data needed on maternal health care and reproductive system from the appropriate websites. \n",
    "\n",
    "World Health Organization"
   ]
  },
  {
   "cell_type": "code",
   "execution_count": 1,
   "id": "1f623ff5",
   "metadata": {},
   "outputs": [
    {
     "name": "stdout",
     "output_type": "stream",
     "text": [
      "Libraries imported\n"
     ]
    }
   ],
   "source": [
    "#libraries\n",
    "import requests\n",
    "from bs4 import BeautifulSoup\n",
    "import re\n",
    "import json\n",
    "import os\n",
    "from urllib.parse import urlparse\n",
    "#from scripts.loggingsetup import error_logger, success_logger\n",
    "print(\"Libraries imported\")"
   ]
  },
  {
   "cell_type": "code",
   "execution_count": 29,
   "id": "59831429",
   "metadata": {},
   "outputs": [],
   "source": [
    "#function to fetch and save structured data from a web page\n",
    "\n",
    "def get_data(url):\n",
    "    try:\n",
    "        # Get the data from the website\n",
    "        headers = {\"User-Agent\": \"Mozilla/5.0\"}\n",
    "        response = requests.get(url, headers=headers)\n",
    "        response.raise_for_status()  # Raise error if bad response\n",
    "\n",
    "        # Parse the data using BeautifulSoup\n",
    "        soup = BeautifulSoup(response.content, 'html.parser')\n",
    "\n",
    "        # Find all sections with article content\n",
    "        sections = soup.find_all(\"div\", {\"data-testid\": \"tabbed-article-section\"})\n",
    "\n",
    "        if not sections:\n",
    "            print(\"❌ No article content found.\")\n",
    "            return None\n",
    "\n",
    "        # Combine all the article text\n",
    "        article_text = \"\"\n",
    "\n",
    "        for section in sections:\n",
    "            for tag in section.find_all(['h2', 'h3', 'p']):\n",
    "                text = tag.get_text(strip=True)\n",
    "                if not text:\n",
    "                    continue\n",
    "            #ensuring that there is space between headings and paragraphs\n",
    "                if tag.name == 'h2':\n",
    "                    article_text += f\"\\n\\n## {text}\\n\\n\"\n",
    "                elif tag.name == 'h3':\n",
    "                    article_text += f\"\\n\\n### {text}\\n\\n\"\n",
    "                else:  # paragraph\n",
    "                    article_text += f\"{text}\\n\\n\"\n",
    "\n",
    "        # Generate a file name based on URL path\n",
    "        path = urlparse(url).path.strip('/')\n",
    "        file_name = path.replace('/', '_') or 'index'\n",
    "        file_path = f\"{file_name}.txt\"\n",
    "\n",
    "        # Save to file in the data folder\n",
    "        data_folder = r\"C:\\Projects_ML\\AI-for-Maternal-HealthCare\\data\"\n",
    "        if not os.path.exists(data_folder):\n",
    "            os.makedirs(data_folder)\n",
    "\n",
    "        full_path = os.path.join(data_folder, file_path)\n",
    "        with open(full_path, 'w', encoding='utf-8') as f:\n",
    "            f.write(article_text)\n",
    "\n",
    "        print(f\"✅ Data saved to {full_path}\")\n",
    "        return article_text\n",
    "\n",
    "    except Exception as e:\n",
    "        print(f\"❌ Error processing {url}: {str(e)}\")\n",
    "        return None\n"
   ]
  },
  {
   "cell_type": "code",
   "execution_count": 30,
   "id": "71d50ae4",
   "metadata": {},
   "outputs": [
    {
     "name": "stdout",
     "output_type": "stream",
     "text": [
      "✅ Data saved to C:\\Projects_ML\\AI-for-Maternal-HealthCare\\data\\depression_depression-busters-for-new-moms.txt\n"
     ]
    },
    {
     "data": {
      "text/plain": [
       "\"Postpartum depression can affect anyone. Here are some tips for coping with it.\\n\\nThe birth of a baby can bring a lot of change to someone’s life. Some of these changes are expected, like lots of dirty diapers, new feeding schedules, and sleep deprivation.\\n\\nBut some changes are less expected — such as those that affect your mental and emotional health, likepostpartum depression (PPD).\\n\\nPPD is a form ofmajor depressive disorder (MDD)that develops in a parent in the year following the birth of their child. Many factors maycause postpartum depression.\\n\\n“It’s similar to major depression in that the main symptoms are feeling depressed and disinterested,” explains Kristin Calverley, a licensed psychologist in Texas certified in perinatal mental health and owner ofInner Balance Psychological Services.\\n\\nOther symptoms you might experience include, but aren’t limited, to:\\n\\nIf you’re experiencing any of these symptoms for several days or weeks on end, you might be experiencing PPD. Whether or not you’re the parent who gave birth to your baby, PPD can affect you.\\n\\nBut there are strategies that can help you manage your symptoms. Consider the following tips to help you cope:\\n\\n\\n\\n## Try to give yourself grace\\n\\n“Recognize that your experience is valid, and it is not your fault that you are ‘struggling’,” saysKara Kushnir, a New Jersey licensed clinical social worker trained in perinatal and postpartum mental health.\\n\\nYou’re not a bad parent because you were diagnosed with PPD — and things will get better with treatment and time. PPD can affect both the birthing parent and thenon-birthing parent.\\n\\nAccording to a 2021 study, roughly1 in 7women experience PPD.\\n\\nA 2021 systematic review and meta-analysis also suggests that somewhere between1.2% and 25.5%of men develop paternal postpartum disorder.\\n\\nLike most forms of depression, researchers aren’t exactly sure whatcauses PPD. Instead, it appears that several risk factors contribute to it, including:\\n\\nIn other words, saysSandy J. Green, a certified lactation counselor, postpartum doula, and the founder of Taking Care of Mama, “it is likely caused by various factors — none of which is your fault.”\\n\\n\\n\\n## Try to prioritize sleep where and when you can\\n\\nIt might sound cliche to “sleep when the baby sleeps” but the truth is, sleep is incredibly important to your mental health. So when and if you can sleep, you should. (The laundry or dirty dishes can wait.)\\n\\nAccording to a2018 study, sleep deprivation is believed to increase the chances of developing PPD.\\n\\nA large2016 studyindicated that both parents are more likely to have depressive symptoms if the birthing parent sleeps poorly.\\n\\nAnother2016 studyinvolving 360 women in Ardabil, Iran suggested that women that didn’t sleep well were 3 times more likely to experience PPD compared to postpartum women with good sleep quality.\\n\\nA large2015 studyalso found that suicidal ideation increased in women with PPD that were sleep-deprived.\\n\\n\\n\\n## Consider making time to exercise\\n\\nGoing to the gym may seem like the last thing you want to do when there is a newborn at home to take care of, but making time to get your body moving — even if it’s just a short walk around the park — can be helpful.\\n\\n“Exercise allows you to release endorphins, establish routine, and mentally disengage in a way that is both productive and healthy,” saysNicholas Hardy, a psychotherapist in Houston.\\n\\nOf course, if you’re the birthing parent, make sure you allow your body time to heal before engaging in strenuousexercise.\\n\\nConsider talking with your doctor about what activities are safe for you to do within the first 3 months after bringing the baby home.\\n\\n\\n\\n## Try to prioritize your hygiene\\n\\nCaring for a newborn can be all-consuming between the round-the-clock feedings, dirty diapers, and trying to fit naps in. So it’s easy to put off taking a shower, washing your hair, brushing your teeth, or even scrubbing your face.\\n\\nWhen our hygiene goes unnoticed, though, it can impact our self-esteem and further isolate us from our support networks because we don’t want others to see us not looking our best.\\n\\n\\n\\n## Consider carving out time for other self-care\\n\\nIt’s okay to take a short break tomeditate, read a book, or even schedule a massage.\\n\\nYou may be surprised just how much these short moments of self-care might help lessen your symptoms of depression.\\n\\n\\n\\n## Do one chore or outside activity\\n\\nEven if you just run to the corner bakery for a muffin, leaving the house for a little while each day may decrease your feelings of loneliness or isolation.\\n\\nPlus, it can help break the repetitive cycle of caring for your newborn by helping you feel like you’re accomplishing at least one thing on your to-do list each day.\\n\\nTry to avoid overloading yourself with tasks to accomplish. It might just make you feel more anxious or overwhelmed.\\n\\n\\n\\n## Eat nourishing meals when you’re able\\n\\nEating healthfully is important whether you’re the birthing parent and are breastfeeding, you’re feeding your baby formula, or you’re the non-birthing parent.\\n\\nA large2021 studyindicated that diets lacking vegetables and food variety were associated with PPD in Chinese lactating women.\\n\\nEating nutritious foods can help you feel better and give your body the nutrients you need while caring for your baby and yourself.\\n\\n\\n\\n## Try talking to those you trust about what you’re going through\\n\\n“It is important to identify individuals and communities that allow you to openly express your feelings,” says Hardy. “When we suppress our emotions, [they] build up and create friction in other areas of our lives.”\\n\\nFor example, consider talking to your partner, family, or friends. Speaking with loved ones may help them better understand what you’re going through, and how they can better support you.\\n\\n\\n\\n## It’s OK to ask for help\\n\\nIn addition to telling others what you’re going through, consider asking people you trust for help. Support from those you trust can help you find the time for the other things, such as more sleep andself-care.\\n\\nConsider using this time to explore what you may need to help you relax and feel better.\\n\\n\\n\\n## Consider joining a support group\\n\\nIf you don’t feel like you can truly talk to your family or friends about what you’re going through — or don’t feel like they can give you the kind of support you need — consider reaching out to a therapist or support group.\\n\\nFor example, Calverley says, “there are many free support groups both online and throughout the country that cater specifically to moms who are ‘struggling.'”\\n\\nThere are also support groups for non-birthing parents where you can meet and talk with parents going through similar experiences.\\n\\nIf you’re not sure where to find a group, check outpostpartum support international, which offers a directory of support groups that can be helpful.\\n\\n“When I was a new father, I got a lot more out of talking to men that I admired as good fathers about their early adventures of being a dad,” says Nolan Davis, licensed marriage and family therapist atThriveworks in Charlotte, North Carolina.\\n\\n“Those stories gave me a lot of encouragement that not only can I do this, but that any ‘mistakes’ I make along the way are likely not going to ruin my child for the rest of their life.”\\n\\n“Knowing that I had within me everything I needed to be a good dad gave me the confidence to embrace my role as a father.”\\n\\n\\n\\n## Consider seeking professional support\\n\\n“The biggest tip I have for new mothers is not to wait to get help,” says Green. “Online therapy is an excellent option as it’s affordable and very convenient.”\\n\\nSome parents, particularly those who are breastfeeding or chestfeeding, sometimes delay treatment out of fear that treatment might involve medication that isn’t safe if passed to the baby through breastmilk.\\n\\nHowever, Green continues, “many antidepressants and anti-anxiety medications are safe while breastfeeding [so] there’s no shame in talking to your doctor about these medications, in conjunction with therapy, if you’re suffering.”\\n\\nSome people also benefit fromcouples therapy, particularly if their diagnosis has affected their relationship with their partner.\\n\\n\\n\\n## Next steps\\n\\nLife with PPD can feel difficult but remember it doesn’t have to last forever — or take over your life. With treatment and self-care, you can manage your symptoms and begin to feel better.\\n\\nPPD can be diagnosed by a qualified mental health professional or doctor with clinical questioning and theEdinburgh Postnatal Depression Scale.\\n\\nTreatment may involve talk therapy, antidepressants, or a combination of both.\\n\\nThere are also several helpful books that you might want to consider reading, including:\\n\\n\""
      ]
     },
     "execution_count": 30,
     "metadata": {},
     "output_type": "execute_result"
    }
   ],
   "source": [
    "#data extraction\n",
    "get_data(\"https://psychcentral.com/depression/depression-busters-for-new-moms\")"
   ]
  },
  {
   "cell_type": "code",
   "execution_count": 2,
   "id": "a55341bf",
   "metadata": {},
   "outputs": [],
   "source": [
    "#function 2 - websites have different structures, \n",
    "# so we need to create a new function to handle the different structure of the website\n",
    "def get_data2(url):\n",
    "    try:\n",
    "        import requests\n",
    "        from bs4 import BeautifulSoup\n",
    "        from urllib.parse import urlparse\n",
    "        import os\n",
    "\n",
    "        headers = {\"User-Agent\": \"Mozilla/5.0\"}\n",
    "        response = requests.get(url, headers=headers)\n",
    "        response.raise_for_status()\n",
    "\n",
    "        soup = BeautifulSoup(response.content, 'html.parser')\n",
    "\n",
    "        # Look for the main content div\n",
    "        article_container = soup.find(\"div\", class_=\"entry-content\")\n",
    "        if not article_container:\n",
    "            print(\"❌ Could not find article container with class 'entry-content'.\")\n",
    "            return None\n",
    "\n",
    "        # Extract text content from all paragraphs and headings\n",
    "        article_text = \"\"\n",
    "        for tag in article_container.find_all(['p', 'h2', 'h3']):\n",
    "            text = tag.get_text(strip=True)\n",
    "            if text:\n",
    "                article_text += text + \"\\n\\n\"\n",
    "\n",
    "        # Create a clean filename from the URL\n",
    "        path = urlparse(url).path.strip('/')\n",
    "        file_name = path.replace('/', '_') or 'index'\n",
    "        file_path = f\"{file_name}.txt\"\n",
    "\n",
    "        # Save to file\n",
    "        data_folder = r\"C:\\Projects_ML\\AI-for-Maternal-HealthCare\\data\" # Change this to your desired folder\n",
    "        os.makedirs(data_folder, exist_ok=True)\n",
    "        full_path = os.path.join(data_folder, file_path)\n",
    "\n",
    "        with open(full_path, 'w', encoding='utf-8') as f:\n",
    "            f.write(article_text)\n",
    "\n",
    "        print(f\"✅ Article saved to {full_path}\")\n",
    "        return article_text\n",
    "\n",
    "    except Exception as e:\n",
    "        print(f\"❌ Error processing {url}: {str(e)}\")\n",
    "        return None\n"
   ]
  },
  {
   "cell_type": "code",
   "execution_count": 3,
   "id": "1462fcf1",
   "metadata": {},
   "outputs": [
    {
     "name": "stdout",
     "output_type": "stream",
     "text": [
      "✅ Article saved to C:\\Projects_ML\\AI-for-Maternal-HealthCare\\data\\how-to-stay-healthy-and-active-during-pregnancy.txt\n"
     ]
    },
    {
     "data": {
      "text/plain": [
       "\"Introduction\\n\\nMaintaining health and fitness during pregnancy is crucial for both mothers and babies: how to stay healthy and active during pregnancy.A healthy lifestyle promotes fetal development and helps moms cope with labor and delivery.In Nigeria, some common health concerns include gestational diabetes, hypertension, and inadequate nutrition.Each of these can lead to complications, making awareness essential for pregnant women.\\n\\nThis blog post aims to provide practical tips for Nigerian mothers.We will cover nutrition, exercise, and mental well-being strategies.These simple yet effective methods can significantly enhance your pregnancy experience.\\n\\nUnderstanding Health Challenges\\n\\nNigerian moms face unique challenges during pregnancy.Poor nutrition is common due to economic constraints or limited access to healthy foods.This can lead to weight gain or deficiencies that can affect the baby’s health.\\n\\nAdditionally, the hot climate often leaves pregnant women dehydrated.Dehydration can cause fatigue and complications.Therefore, awareness and management of these concerns are vital for a healthy pregnancy.\\n\\nEssential Nutrition Tips\\n\\nFocus on a balanced diet rich in fruits, vegetables, and proteins.Incorporate local foods like beans, yams, and leafy greens.These help provide essential nutrients necessary for fetal growth.\\n\\nStay hydrated by drinking plenty of water and natural juices.Avoid sugary drinks, as they may cause excessive weight gain.Consider using local herbs like ginger, which can alleviate nausea.\\n\\nStaying Physically Active\\n\\nEngaging in moderate exercise is very beneficial.Aim for activities like walking, swimming, or prenatal yoga.These help improve circulation and reduce stress.\\n\\nListen to your body and avoid overexertion.Always consult your healthcare provider before starting any new exercise routine.Regular physical activity enhances overall well-being during pregnancy.\\n\\nMental Well-Being\\n\\nMental health is just as important as physical health.Practice relaxation techniques like meditation or deep breathing.Find support through family and community, as social interactions can improve your mood.\\n\\nIn short, adopting a healthy lifestyle during pregnancy is vital.By focusing on nutrition, activity, and mental health, you can ensure a safe and healthy journey into motherhood.\\n\\nUnderstanding Pregnancy and Its Phases\\n\\nPregnancy is a remarkable journey that unfolds over three distinct trimesters.Each trimester presents unique health challenges and experiences.\\n\\nThe Three Trimesters\\n\\nDuring pregnancy, the body undergoes significant changes.Understanding the trimesters can help Nigerian moms manage their health effectively.\\n\\nUnique Health Challenges of Each Trimester\\n\\nEach trimester brings unique hormonal changes and health issues.These include:\\n\\nPhysical and Emotional Changes During Pregnancy\\n\\nPregnancy triggers both physical and emotional transformations.Recognizing these changes fosters better health management.\\n\\nPhysically, many women experience:\\n\\nParenting Made Just for You\\n\\nGet personalized Parenting Solutions tailored to your child’s needs. Transform your parenting journey with expert guidance in 1-3 days.\\n\\nEmotionally, pregnancy can lead to:\\n\\nImportance of Understanding These Phases\\n\\nGrasping the intricacies of each trimester aids pregnant women in managing their health.Knowledge equips them to make informed decisions regarding their well-being.\\n\\nPregnant women should engage in regular check-ups during all trimesters.This proactive approach ensures the health of both mother and baby.\\n\\nNutrition plays a pivotal role in each phase.A balanced diet promotes optimal fetal development.It also helps mothers combat common pregnancy complaints.\\n\\nEssential Nutritional Guidelines\\n\\nHealthy eating empowers pregnant women.Here’s how to maintain proper nutrition during pregnancy:\\n\\nStaying Physically Active\\n\\nMaintaining physical activity is important throughout pregnancy.Exercise boosts overall well-being and aids recovery after childbirth.\\n\\nEmotional Well-Being\\n\\nPregnancy can induce emotional ups and downs, and addressing mental health is crucial.\\n\\nUnderstanding pregnancy’s phases empowers Nigerian moms to stay healthy and active.Embracing these changes facilitates a positive journey into motherhood.\\n\\nRemain proactive about health, nutrition, and emotional well-being.Seek information, engage in communication, and cultivate supportive relationships, ensuring a joyous experience.\\n\\nIn essence, pregnancy is an incredible journey, and with the right knowledge, mothers can navigate it successfully.\\n\\nNutrition for a Healthy Pregnancy\\n\\nProper nutrition plays a critical role in ensuring a healthy pregnancy.Pregnant women need essential nutrients to support their growing babies and maintain their health.Understanding these nutrients and incorporating them into daily meals is vital.Below, we explore the key nutrients for pregnant women and how Nigerian foods can fulfill these needs.\\n\\nEssential Nutrients for Pregnant Women\\n\\nDuring pregnancy, women need specific nutrients that promote fetal development and overall wellbeing.Here is a list of essential nutrients:\\n\\nTraditional Nigerian Foods Rich in Vitamins and Minerals\\n\\nNigeria has a rich culinary tradition that offers numerous foods packed with essential nutrients.Here are some traditional Nigerian foods that pregnant women can include in their diets:\\n\\nTips for Meal Planning and Ensuring Balanced Diets Despite Cravings\\n\\nCravings during pregnancy can be powerful and challenging to manage.However, with careful meal planning, you can ensure a balanced diet.Here are some tips:\\n\\nUnveil the Perfect Name that Tells Your Family's Story\\n\\nLet us help you find a name that embodies your family's values, traditions, and dreams. Our personalized consultation weaves cultural insights to create a name that's uniquely yours.\\n\\nCreating a Nutritional Schedule\\n\\nEstablishing a nutritional schedule can help manage cravings and ensure balanced meals.Here are steps to create a weekly meal plan:\\n\\nMaintaining proper nutrition during pregnancy is crucial for both the mother and the baby.Through careful meal planning, incorporating traditional Nigerian foods, and being mindful of cravings, pregnant women can nourish themselves effectively.Remember that every woman’s nutritional needs are different.Focus on creating a plan that works for your body.Always consult healthcare professionals when uncertainties arise.Prioritize your health and wellness through nutrition, and enjoy this remarkable journey toward motherhood.\\n\\nRead:Key Pregnancy Tips for Nigerian Women: From Conception to Delivery\\n\\nSafe and Effective Exercise Routines\\n\\nBenefits of Regular Physical Activity During Pregnancy\\n\\nStaying active during pregnancy offers numerous benefits.Exercise can improve your mood and boost energy levels.It helps manage weight gain and reduces the risk of gestational diabetes.Regular physical activity also strengthens your muscles and enhances flexibility.\\n\\nAdditionally, it reduces discomfort during pregnancy, such as back pain and bloating.Exercise can also help improve sleep patterns, which are often disrupted during pregnancy.Engaging in physical activity may lead to healthier pregnancy outcomes, including better labor and delivery experiences.\\n\\nMoreover, being active fosters a stronger bond with your baby.Endorphins released during exercise can enhance your overall well-being.Staying fit can prepare your body for the physical demands of motherhood.\\n\\nRecommended Exercises for Each Trimester\\n\\nPregnancy progresses through three distinct trimesters.Specific exercises are recommended for each stage to ensure safety and maximum benefit.\\n\\nDuring the first trimester, your body undergoes significant changes.It’s essential to adapt your exercise routine accordingly.The focus should be on low-impact activities.\\n\\nKeep hydrated and listen to your body.If you feel any discomfort, reduce the intensity of your workout.\\n\\nAs you transition into the second trimester, you’ll likely feel more energetic.Take advantage of this time to increase your activity level.\\n\\nConsult your healthcare provider if you have any complications or concerns.\\n\\nIn the third trimester, your body is preparing for labor.Focus shifts to maintaining mobility and reducing discomfort.\\n\\nPrecautions to Take and When to Consult a Doctor\\n\\nWhile exercising during pregnancy has many benefits, safety is crucial.Here are precautions to consider before starting any fitness routine:\\n\\nKnow when to consult a doctor about your exercise routine:\\n\\nPregnancy is a unique journey for every mother.Prioritize your well-being by staying active and healthy.Find a fitness routine that you enjoy and suits your stage of pregnancy.Regular exercise combined with a balanced diet positively impacts your pregnancy experience.\\n\\nFinding activities that you love will also sustain your motivation.Whether it’s walking in a scenic park, participating in a community class, or swimming in a local pool, keep moving.Your body will thank you, and so will your baby as you nurture their development through these healthy habits.\\n\\nRead:Essential Pregnancy Tips for Expecting Mothers in Nigeria\\n\\nManaging Stress and Emotional Well-Being\\n\\nPregnancy is a journey filled with excitement, anticipation, and sometimes a whirlwind of emotions.Pregnant women experience unique emotional ups and downs due to hormonal changes and new responsibilities.Nigerian moms, like many around the world, may find managing these emotions challenging.Recognizing this will help you prioritize your mental health during this critical time.\\n\\nAcknowledging the Emotional Ups and Downs\\n\\nThroughout pregnancy, women encounter a spectrum of emotions.From joy and excitement to anxiety and fear, these feelings are entirely normal.Understanding this emotional rollercoaster is essential.Stay vigilant about youremotional health.Monitor your feelings and note any changes in your mood.Some common emotional experiences include:\\n\\nRecognizing these emotions is the first step.Accepting that it’s okay to feel overwhelmed is vital.Understanding that you’re not alone can be comforting.Many expectant mothers share similar experiences, and connecting with others can provide reassurance.\\n\\nTechniques for Stress Reduction\\n\\nStress is a common experience during pregnancy.Learning how to reduce stress can improve your mental well-being.Here are some effective techniques to consider:\\n\\nPracticing mindfulness encourages you to be present in the moment.Focus on your breath and notice how your body feels.Allocate a few minutes daily to engage in mindfulness exercises.Restore your inner peace and help reduce anxiety.Apps such as Headspace or Calm can support mindfulness practices.Consider incorporating it into your morning routine or before bed for relaxation.\\n\\nMeditation is another excellent tool for stress reduction.Through meditation, you can cultivate a calm mind.Find a quiet space where you can sit comfortably.Many guided meditation resources are available online.Start with just a few minutes a day, gradually increasing the duration.You may find that meditation enhances your emotional resilience.\\n\\nConnecting with other pregnant women can provide immense emotional support.Seek out local or online support groups.Sharing experiences with others can help normalize your feelings.These groups create a safe space for expressing fears and anxieties.In Nigeria, many communities offer maternal health programs where moms can gather.Participating can alleviate feelings of isolation, promoting a shared sense of understanding.\\n\\nEngaging in physical activity benefits both your body and mind.Exercise releases endorphins, which help improve your mood.Consider walking, dancing, or prenatal yoga.Find activities you enjoy and make them part of your routine.Always consult your healthcare provider before starting a new exercise program.Aim for at least 30 minutes of moderate exercise most days of the week.\\n\\nYour diet impacts your emotional well-being.Eating nutritious foods can stabilize your mood.Focus on a balanced diet rich in fruits, vegetables, whole grains, and protein.Stay hydrated and limit caffeine and sugar.Don’t forget to indulge occasionally; it’s important to enjoy your favorite foods in moderation.A well-nourished body promotes a well-nourished mind.\\n\\nThe Significance of Mental Health in Overall Pregnancy Wellness\\n\\nPrioritizing your mental health during pregnancy influences your overall well-being.Research indicates that psychological wellness connects deeply with physical health.Ignoring emotional stress may decrease your quality of life.Furthermore, poor mental health can affect your baby’s development.Here’s how mental well-being impacts pregnancy:\\n\\nAddress your mental health proactively.Engage in regular check-ins with yourself and your support system.Seek professional help if needed.Counseling and therapy can serve as valuable resources for managing stress and anxiety.Open communication with your partner is vital for emotional support.\\n\\nIn general, navigating the emotional landscape of pregnancy can be challenging but manageable.Recognize and acknowledge your feelings without judgment.Implement techniques like mindfulness and meditation to combat stress.Reach out to support groups and prioritize physical health through exercise and nutrition.Most importantly, understand that mental well-being greatly impacts your overall pregnancy experience.Taking care of your mind is as essential as taking care of your body.\\n\\nRead:Essential Baby Prep List for Nigerian Moms-to-Be\\n\\nStaying Hydrated: The Key to Wellness\\n\\nStaying hydrated is one of the most important aspects of maintaining health during pregnancy.Proper hydration supports both the mother and the developing baby.Pregnant women need to pay extra attention to water intake.Dehydration can lead to various complications, such as fatigue, dizziness, and even preterm labor.\\n\\nImportance of Hydration During Pregnancy\\n\\nWhen you’re pregnant, your body undergoes many changes.Increased blood volume means your body needs more fluids.Staying hydrated helps in multiple ways:\\n\\nIt’s crucial for Nigerian moms to understand that hydration is essential for overall wellness.Drinking adequate water daily reduces the risk of fatigue and promotes energy levels.Moreover, staying hydrated can alleviate common pregnancy discomforts.\\n\\nSigns of Dehydration\\n\\nIdentifying dehydration early is key to preventing complications.Knowing the signs can help you monitor your fluid intake effectively.Watch out for these symptoms:\\n\\nTo monitor your hydration levels effectively, maintain a simple daily water tracker.Aim for a minimum of eight to ten glasses of water each day.Consider increasing your intake if you experience any of the signs above.\\n\\nCreative Ways to Stay Hydrated with Local Nigerian Beverages and Fruits\\n\\nStaying hydrated doesn’t have to be boring.Incorporating local Nigerian beverages and fruits can make drinking fluids enjoyable.Here are some delicious options that can help keep you hydrated:\\n\\nFruits are naturally high in water content.They also offer essential vitamins and minerals.Pack them in your meals or enjoy them as snacks:\\n\\nTips to Increase Fluid Intake\\n\\nIncorporating more fluids into your daily routine can be simple and fun.Here are practical tips that Nigerian moms can follow:\\n\\nStaying hydrated during pregnancy is crucial for both you and your baby.By understanding the importance of hydration, recognizing the signs of dehydration, and finding creative ways to drink more fluids, you can ensure a healthier pregnancy.Embrace local Nigerian beverages and fruits as delightful options to keep your hydration levels high.Remember, listen to your body’s needs, and always prioritize your fluid intake. Here’s to a healthy and vibrant pregnancy!\\n\\nRead:Influential Nigerian Names for Future Leaders\\n\\nHealth Checks and Regular Routines\\n\\nStaying healthy during pregnancy requires attention to various health markers.Regular health checks and established routines play a crucial role in ensuring both mom and baby thrive.Establishing good health practices early on helps mitigate potential risks associated with pregnancy.\\n\\nImportance of Prenatal Check-Ups and Screenings\\n\\nRegular prenatal check-ups are vital for monitoring the health of both mother and fetus.These appointments allow healthcare professionals to track the baby’s growth and detect any complications early.\\n\\nThese check-ups also provide an opportunity for moms to ask questions and address concerns.Engaging with healthcare providers fosters a sense of reassurance and knowledge throughout the pregnancy journey.Consider the following reasons why prenatal visits are essential:\\n\\nKey Health Markers to Monitor\\n\\nMonitoring important health markers is crucial during pregnancy.This includes both physiological and emotional aspects of well-being.Key markers include:\\n\\nBuilding a Routine for Regular Health Visits\\n\\nEstablishing a routine that includes regular visits to healthcare providers enhances health outcomes.Regular check-ups should be scheduled to align with your healthcare provider’s recommendations.\\n\\nConsider the following steps to create an effective routine:\\n\\nBy creating a routine for your health checks, you equip yourself with knowledge and tools for a successful pregnancy.Regular screenings can help you stay informed about your health, ensuring proactive approaches to any emerging issues.\\n\\nAdopting a Comprehensive Approach\\n\\nCombining regular health visits with healthy lifestyle choices is essential.A comprehensive approach improves not only your health but also the baby’s health.Incorporate the following practices into your daily routine:\\n\\nBy integrating health checks with proactive lifestyle habits, pregnant women can greatly enhance their well-being.Continuous care and self-attention ensure a fulfilling pregnancy experience.\\n\\nTherefore, establishing a routine of health checks and screenings is vital during pregnancy.Engaging with healthcare providers empowers mothers to take charge of their health.Monitoring key health markers keeps both the mother and baby on track for a healthy outcome.Combine this with a healthy lifestyle, and you will lay a strong foundation for the next exciting chapter of your life.\\n\\nTraditional and Cultural Practices\\n\\nNigeria has a rich tapestry of traditional practices that significantly impact maternal health.These practices often reflect the cultural beliefs and values of various ethnic groups.For many Nigerian mothers, traditional practices offer comfort, community support, and nutritional guidance.This section explores beneficial traditional practices while balancing them with modern medicine.\\n\\nBeneficial Traditional Practices\\n\\nMany Nigerian communities have beneficial practices that support maternal health.Understanding these practices can empower mothers towards a healthier pregnancy.Here are some noteworthy traditions:\\n\\nThese traditional practices not only help mothers feel supported but also connect them with their heritage.They build a foundation for a hopeful pregnancy experience.\\n\\nBalancing Modern Medicine with Traditional Beliefs\\n\\nWhile traditional practices offer many benefits, it’s vital to integrate modern medicine.This balance ensures a comprehensive approach to maternal health.Here are effective ways to harmonize both practices:\\n\\nBy integrating both traditional and modern practices, Nigerian mothers can navigate their pregnancies more effectively.They create a synergy that respects cultural heritage while prioritizing health and safety.\\n\\nIncorporating Community and Family Support\\n\\nCommunity and family play significant roles in Nigerian culture, especially during pregnancy.The support system provides emotional, physical, and social resources.Here are ways to maximize this support:\\n\\nA strong support system is paramount for a healthy pregnancy.It not only helps in coping with physical changes but also alleviates emotional stress.\\n\\nNigerian mothers can enjoy a healthy pregnancy by blending traditional practices with modern medical insights.The cultural practices enrich their experiences and provide comfort.However, it’s essential to seek professional guidance when incorporating herbal remedies or traditional therapies.Balancing both realms enables a holistic approach, reinforcing the health and well-being of mothers and their babies.Engaging family and community further enhances this experience, making it a collaborative journey towards motherhood.Ultimately, acknowledging and respecting these cultural practices forms a strong foundation for healthier pregnancies.\\n\\nConclusion\\n\\nStaying healthy and active during pregnancy is essential for both you and your baby.Regular physical activity promotes better circulation and boosts your mood.It can also help manage common discomforts, such as back pain and fatigue.Moreover, a nutritious diet supports your baby’s growth and development, ensuring they have the best start in life.\\n\\nAs a Nigerian mom, you possess unique cultural insights and traditions that can enhance your pregnancy journey.Incorporate local foods rich in nutrients.Dishes made with legumes, fruits, and vegetables provide essential vitamins and minerals.Always consult your doctor before making significant dietary changes.\\n\\nPhysical activity is equally vital.Consider activities that align with your lifestyle and beliefs.You can enjoy walking, dancing, or joining prenatal yoga classes.These activities strengthen your body and facilitate relaxation, preparing you for childbirth.\\n\\nPrioritize hydration.Drinking plenty of water helps maintain your energy levels and supports overall health.Consume herbal teas that are safe during pregnancy, but avoid those that may pose risks.\\n\\nDon’t overlook rest.Quality sleep aids in recovery and keeps your energy levels high.Create a calming bedtime routine to enhance your sleep quality.Find a comfortable position and use pillows for support.\\n\\nCommunity support plays an important role in your well-being.Connect with other pregnant moms through local groups or online forums.Sharing experiences and advice creates a supportive atmosphere where you can navigate pregnancy together.\\n\\nEmbrace this transformative journey with positivity and gratitude.Remember, your health directly impacts your baby’s health.Use the tips provided to cultivate a healthy lifestyle.Engage in activities that uplift you emotionally and physically.\\n\\nAll in all, focus on maintaining a balanced diet, staying active, and nurturing your well-being.Embracing motherhood with enthusiasm fosters a joyful environment for your child.Stay strong, healthy, and connected; your journey has just begun!\\n\\n\""
      ]
     },
     "execution_count": 3,
     "metadata": {},
     "output_type": "execute_result"
    }
   ],
   "source": [
    "get_data2(\"https://smartparenting.ng/how-to-stay-healthy-and-active-during-pregnancy/#:~:text=This%20blog%20post%20aims%20to%20provide%20practical%20tips,experience.%20Nigerian%20moms%20face%20unique%20challenges%20during%20pregnancy.\")"
   ]
  },
  {
   "cell_type": "code",
   "execution_count": 4,
   "id": "1085abc3",
   "metadata": {},
   "outputs": [
    {
     "name": "stdout",
     "output_type": "stream",
     "text": [
      "✅ Article saved to C:\\Projects_ML\\AI-for-Maternal-HealthCare\\data\\women-pregnancy-tips.txt\n"
     ]
    },
    {
     "data": {
      "text/plain": [
       "\"Introduction\\n\\nWomen pregnancy tips highlight that pregnancy marks a significant chapter in a woman’s life.It brings excitement, hope, and transformation.However, it also introduces a range of physical and emotional challenges.For Nigerian women, cultural expectations often amplify these challenges.Many feel pressured to meet traditional roles while managing pregnancy.Family expectations and societal norms can create additional stress.\\n\\nNigerian culture places high value on motherhood.Women may feel the weight of expectations to embody strength and resilience.These societal pressures can lead to anxiety during pregnancy.Furthermore, the availability of healthcare varies across regions in Nigeria.Women in rural areas may face more obstacles accessing prenatal care and support.This context emphasizes the need for practical guidance tailored to their experiences.\\n\\nThe purpose of this blog is to offer valuable and culturally relevant tips.Our aim is to help Nigerian women navigate their pregnancies effectively.We want to empower women with knowledge about their health and well-being.From conception to delivery, each woman’s journey is unique; therefore, understanding personal needs is crucial.Our tips will cover nutrition, prenatal care, mental health, and delivery preparation.\\n\\nEach pregnancy is different, yet women can benefit from shared experiences.Empowering women with information fosters confidence in their choices.This blog will also encourage seeking professional healthcare advice as needed.By acknowledging both the joys and challenges of pregnancy, women can enjoy a healthier journey.Ultimately, our goal is to create a supportive community where expectant mothers thrive.\\n\\nIn conclusion, understanding pregnancy within the Nigerian context is vital.We hope to provide the insights and tools necessary to embrace this journey.With the right support, women can navigate their pregnancies with ease and joy.\\n\\nUnderstanding Conception\\n\\nConception marks the beginning of pregnancy.Understanding this process can help Nigerian women prepare for motherhood.Conception occurs when a sperm fertilizes an egg.This fertilized egg, known as a zygote, travels down the fallopian tube to implant in the uterus.It is crucial to understand the biological process of conception for a successful pregnancy.\\n\\nExplanation of the Conception Process\\n\\nConception involves several key steps:\\n\\nWomen should understand their ovulation cycle.Knowing this enhances the chance of conception.Tools like ovulation calculators can aid in tracking fertility windows.\\n\\nImportance of Preconception Health\\n\\nPreconception health is vital for a successful pregnancy.This includes physical, emotional, and psychological well-being.Focusing on nutrition plays a significant role in preparing for pregnancy.Women should make conscious lifestyle changes before conception.Following these guidelines can promote healthier pregnancies:\\n\\nAlso, consider taking prenatal vitamins.Folic acid is particularly essential, as it helps prevent neural tube defects in babies.Women should consult healthcare professionals about the right supplements.\\n\\nRole of Medical Check-ups Prior to Conception\\n\\nRegular medical check-ups are fundamental during preconception.These visits help identify any health issues that could affect pregnancy.Women should schedule a preconception appointment with their healthcare provider.During this visit, discuss medical history and any concerns.\\n\\nMedical professionals often perform specific evaluations, including:\\n\\nWomen should openly communicate with their healthcare providers.This discussion can unveil critical health matters that require attention.Being proactive about health leads to better pregnancy outcomes.\\n\\nUnderstanding the conception process empowers women to take charge of their reproductive health.This knowledge fosters a smoother transition into pregnancy.By prioritizing preconception health, women can mitigate risks and enhance their chances of a healthy baby.Remember, every woman’s journey is unique.Respect your individual cycle, and seek professional advice when needed.\\n\\nIn Nigeria, cultural beliefs and practices often influence perception around conception.Engaging with family and community resources can provide support during this time.Staying informed and prepared allows for a fulfilling journey into motherhood.\\n\\nParenting Made Just for You\\n\\nGet personalized Parenting Solutions tailored to your child’s needs. Transform your parenting journey with expert guidance in 1-3 days.\\n\\nNutrition and Dietary Guidelines\\n\\nNutrition plays a crucial role in the health of pregnant women.A balanced diet ensures both mother and baby receive essential nutrients.During pregnancy, the body requires increased amounts of several key vitamins and minerals.Understanding these needs helps maintain a healthy pregnancy.\\n\\nEssential Nutrients for Pregnant Women\\n\\nTraditional Nigerian Foods That Support Pregnancy Health\\n\\nNigerian cuisine offers a variety of dishes rich in essential nutrients.Incorporating traditional foods promotes health during pregnancy.Here are some beneficial options:\\n\\nAddressing Cravings and Food Aversions During Pregnancy\\n\\nPregnancy often comes with cravings and aversions to certain foods.It’s essential to navigate these changes wisely.Here are some strategies to manage them:\\n\\nIn conclusion, proper nutrition is essential for a healthy pregnancy.By understanding and implementing these dietary guidelines, Nigerian women can support their health and their baby’s development.Focusing on traditional foods can also provide comfort and familiarity during this transformative time.Listening to your body and addressing cravings mindfully is crucial for maintaining health throughout pregnancy.Always consult with healthcare professionals for personalized guidance on nutrition during pregnancy.\\n\\nPrenatal Care: Importance and Recommendations\\n\\nPrenatal care is an essential aspect of a healthy pregnancy.This care involves regular check-ups with healthcare professionals throughout the pregnancy journey.Receiving proper prenatal care helps ensure both the mother’s and baby’s health.It allows for monitoring the development of the fetus and addressing any potential complications early.This section will delve into the importance of prenatal care, the recommended frequency and types of check-ups, as well as essential tests and screenings.\\n\\nWhat Prenatal Care Entails\\n\\nPrenatal care consists of various medical services.These services include physical examinations, blood tests, and ultrasounds.During prenatal visits, healthcare providers assess the health of both the mother and the developing fetus.They also offer guidance on maintaining a healthy pregnancy, including nutrition and lifestyle changes.Regular prenatals monitor fetal growth, detect any issues, and prepare for delivery.\\n\\nImportance of Prenatal Care\\n\\nThe significance of prenatal care cannot be overstated.It positively impacts maternal and infant health outcomes.Here are several key reasons why regular prenatal visits matter:\\n\\nRecommended Frequency of Check-Ups\\n\\nThe frequency of prenatal visits varies at different pregnancy stages.Here’s a guideline to follow:\\n\\nIn total, a woman can expect about 10 to 15 prenatal appointments during her pregnancy.Each visit furthers monitoring and care for both mother and child.\\n\\nEssential Tests and Screenings\\n\\nSeveral tests and screenings are integral parts of prenatal care.They help monitor maternal and fetal health, prepare for any complications, and ensure proper development.Below is a list of essential tests and screenings commonly recommended:\\n\\nBlood tests reveal important information about blood type, hemoglobin level, and presence of infections.Common tests include:\\n\\nRegular urine tests monitor for protein levels (which may indicate preeclampsia) and detect infections.\\n\\nUltrasounds provide visual confirmation of the fetus’s development.Key ultrasounds include:\\n\\nGenetic testing can assess the risk of specific congenital disabilities.It typically occurs during the first or second trimester.\\n\\nUnveil the Perfect Name that Tells Your Family's Story\\n\\nLet us help you find a name that embodies your family's values, traditions, and dreams. Our personalized consultation weaves cultural insights to create a name that's uniquely yours.\\n\\nConducted between weeks 24 and 28, this test screens for gestational diabetes.\\n\\nThis test is performed around 35 to 37 weeks to evaluate the presence of bacteria that may affect the baby during delivery.\\n\\nEngaging in consistent prenatal care is crucial for Nigerian women throughout their pregnancy journey.It promotes the well-being of both mother and child.From early detection of potential issues to essential screenings, the benefits of prenatal visits are vast.By following the recommended guidelines on check-up frequency and essential tests, women can ensure a healthier pregnancy experience.Prioritizing prenatal care paves the way for a successful delivery and a healthy start for newborns.Remember, your health is your wealth, and ensuring a healthy pregnancy benefits not only you but also the next generation.\\n\\nRead:Essential Pregnancy Tips for Expecting Mothers in Nigeria\\n\\nPhysical Activity and Exercise\\n\\nMaintaining physical activity during pregnancy is vital for Nigerian women.Moderate exercise offers numerous benefits that contribute to a healthy pregnancy.Women should engage in appropriate physical activities to ensure their well-being and the baby’s development.\\n\\nBenefits of Moderate Exercise During Pregnancy\\n\\nExercise plays a crucial role in supporting both mental and physical health during pregnancy.Below are some key benefits:\\n\\nTraditional Nigerian Practices Promoting Physical Wellness\\n\\nNigerian culture has long embraced the importance of physical activity for pregnant women.Traditional practices that promote wellness include:\\n\\nSafe Exercises for Different Trimesters\\n\\nIt’s essential to tailor exercises to each trimester for safety and comfort.Here’s a breakdown of safe exercises for every stage of pregnancy:\\n\\nDuring the first trimester, women generally feel their best.However, they should still choose low-impact exercises.Recommended activities include:\\n\\nAs energy levels often increase, the second trimester presents opportunities to engage in more physical activities.Options include:\\n\\nAs delivery approaches, exercise should focus on preparing the body for childbirth.Recommended activities include:\\n\\nAs always, pregnant women should consult healthcare providers before starting any exercise regimen.Adapting physical activity to individual comfort levels is crucial for safety.By incorporating the right exercises, women can enjoy a healthier, more active pregnancy.\\n\\nOverall, emphasizing physical activity during pregnancy can lead to numerous benefits.Integrating traditional practices, modern exercises, and suitable adjustments for different trimesters ensures a safe and fulfilling pregnancy experience.Nigerian women can embrace their culture while fostering wellness for themselves and their babies.\\n\\nRead:Essential Baby Prep List for Nigerian Moms-to-Be\\n\\nMental and Emotional Well-being\\n\\nPregnancy is a profound experience that significantly affects mental health.Mental well-being acts as the foundation for a healthy pregnancy.A stable emotional state contributes to better physical health for both mother and baby.Recognizing the importance of mental health during pregnancy is crucial for Nigerian women.\\n\\nImportance of Mental Health During Pregnancy\\n\\nHealthy mental health benefits pregnant women in various ways.Firstly, it encourages a strong bond between mother and child.Secondly, women are more likely to make healthier lifestyle choices when emotionally stable.Thirdly, good mental health reduces the risk of complications during pregnancy.\\n\\nHere are some specific benefits of mental well-being during pregnancy:\\n\\nCoping with Stress: Tips and Support Systems\\n\\nPregnancy often brings stress, but there are effective coping strategies.Identifying triggers for stress is the first step.Common sources include financial worries, changing relationships, and health concerns.\\n\\nHere are practical tips to help manage stress during pregnancy:\\n\\nSupport systems play a pivotal role in managing stress during pregnancy.Building a strong network of support is invaluable.Here are some support systems to consider:\\n\\nCultural Practices and Beliefs that Support Emotional Health\\n\\nNigerian culture is rich in traditions that positively impact emotional well-being during pregnancy.Many cultural beliefs help women cope with the challenges of pregnancy.Engaging in these practices can provide comfort and reassurance.\\n\\nHere are some cultural practices that support emotional health:\\n\\nUnderstanding and respecting these cultural practices fosters emotional resilience during pregnancy.By embracing your heritage, you lay the groundwork for a healthy mental state.\\n\\nAdditionally, many local spiritual practices offer emotional solace.Seeking guidance from religious leaders or participating in spiritual gatherings often provides comfort.The sense of belonging strengthens emotional ties during this transformative period.\\n\\nThe Role of Education in Mental Well-being\\n\\nEducation plays a crucial role in enhancing mental well-being during pregnancy.Knowledge empowers women to make informed decisions.Understanding the changes in their bodies promotes self-acceptance and confidence.\\n\\nHere are some important educational areas to focus on:\\n\\nIn summary, nurturing mental and emotional well-being during pregnancy is essential for Nigerian women.Recognizing the importance of mental health allows women to address emotional challenges proactively.Incorporating effective coping strategies reduces stress.Additionally, embracing cultural practices enriches the experience.Support systems further enhance resilience.Ultimately, education serves as a powerful tool for empowerment and well-being.\\n\\nBy prioritizing mental health, pregnant women can foster a healthy environment for themselves and their babies.\\n\\nRead:Influential Nigerian Names for Future Leaders\\n\\nPreparing for Labor and Delivery\\n\\nAs you approach the end of your pregnancy journey, preparing for labor and delivery becomes crucial.Understanding the stages of labor will help reduce anxiety.It also allows for informed decision-making as your big day approaches.Educating yourself can empower you and ensure you are ready for the amazing experience of bringing life into the world.\\n\\nEducation on the Stages of Labor\\n\\nKnowing the stages of labor enables you to anticipate what happens as you give birth.Labor typically comprises three stages.Each stage comes with its own unique experiences and challenges.Here’s a brief overview of each stage:\\n\\nUnderstanding these stages will reduce fear and prepare you for what to expect.Attend prenatal classes to learn more.These classes often cover techniques for managing pain as well.\\n\\nCreating a Birth Plan: What to Consider\\n\\nA birth plan is a personal document that outlines your preferences for labor and delivery.It helps communicate your needs to your healthcare provider and support team.Consider the following elements when creating your birth plan:\\n\\nOnce you create your birth plan, share it with your healthcare provider.They can help refine it based on their expertise and medical guidelines.Keeping a flexible attitude can also be beneficial.Sometimes, changes occur during labor that necessitate adjustments to your plan.\\n\\nSelecting a Healthcare Provider and Facility for Delivery\\n\\nChoosing the right healthcare provider and facility is vital for a smooth delivery process.Doing thorough research and asking important questions will help you make an informed decision.Here are some tips to guide you:\\n\\nOnce you have chosen your healthcare provider and facility, begin building a positive relationship with them.Attend regular prenatal check-ups and ask any questions that arise.Feeling informed and supported will enhance your overall experience as you prepare for labor and delivery.\\n\\nIn conclusion, preparing for labor and delivery involves education, planning, and informed decision-making.Embrace this transformative journey with confidence.Every woman’s experience is unique, and being proactive will help you create beautiful memories.Remember, you have the strength and wisdom to navigate this incredible chapter of your life.\\n\\nRead:Nigerian Names: Finding the Perfect Match\\n\\nPostpartum Care\\n\\nOverview of Physical and Emotional Recovery After Childbirth\\n\\nRecovering after childbirth is a crucial phase for mothers.Physical and emotional well-being plays a significant role during this time.Women often experience various physical changes after delivery.This period, known as the postpartum phase, requires careful attention.\\n\\nPhysical recovery can take several weeks or even months.Common changes include:\\n\\nEmotional recovery is just as important.Many women experience mood swings and feelings of sadness.This is often referred to as the “baby blues.”Symptoms may include:\\n\\nWhile these symptoms are common, some women may develop postpartum depression.Therefore, it’s crucial to seek help if feelings persist or worsen.Open discussions with healthcare providers can provide necessary support.\\n\\nTraditional Nigerian Practices to Support Postpartum Healing\\n\\nMany Nigerian cultures have rich traditions to support postpartum recovery.These practices focus on physical healing and emotional support.Here are some time-tested practices:\\n\\nIn addition to these practices, it’s essential to maintain a hygienic environment.Cleanliness helps prevent infections, especially around healing areas.\\n\\nImportance of Community Support and Family Involvement\\n\\nCommunity and family play vital roles in postpartum care in Nigeria.Support from loved ones creates a nurturing environment for new mothers.Below are ways family and community contribute:\\n\\nOverall, involving family and community supports women’s recovery.It fosters a sense of belonging and reduces feelings of isolation.\\n\\nPostpartum care stands as a critical aspect of motherhood.Understanding physical and emotional changes is vital.Embracing traditional practices and community support enhances recovery.They help mothers regain strength and confidence.Recognizing when to seek help is equally important. Always prioritize self-care during this phase.\\n\\nEvery woman’s postpartum journey is unique.Listening to one’s body and seeking guidance can promote overall well-being.With love and support, recovery can be a fulfilling experience for mothers.Nurturing oneself lays a solid foundation for parenting and family life.\\n\\nResources and Support Networks\\n\\nHealthcare Resources\\n\\nAccess to healthcare is crucial during pregnancy.Nigerian women should seek out reputable clinics and hospitals.Below is a list of healthcare resources available across various regions in Nigeria:\\n\\nWomen should always verify the credentials of healthcare providers.Choose facilities with good reviews and recognized health standards.A well-informed choice contributes to a healthy pregnancy.\\n\\nSupport Groups for Pregnant Women\\n\\nJoining support groups can provide emotional and practical support during pregnancy.Connections with fellow expectant mothers are beneficial.Below is a list of support groups in various local communities:\\n\\nThese groups often conduct workshops, share experiences, and provide valuable tips.They also connect members with healthcare resources.Emotional support is essential in navigating pregnancy challenges.\\n\\nOnline Resources and Literature\\n\\nContinuous education can empower pregnant women.Various online resources and literature are available to support Nigerian women during pregnancy.Here are some valuable resources:\\n\\nBooks\\n\\nOnline resources offer countless opportunities for learning.Utilize these materials for comprehensive knowledge about pregnancy.Engaging with different forms of media can enhance understanding and preparation for motherhood.\\n\\nNigerian women should not hesitate to access the wealth of resources available to them.Healthcare facilities, support groups, and online platforms provide essential assistance during pregnancy.By making informed choices, expectant mothers can ensure a positive pregnancy experience.Remember, knowledge is power.Empower yourself with resources, connect with others, and prepare for the journey of motherhood.\\n\\nConclusion\\n\\nIn this discussion, we highlighted essential tips for Nigerian women during their pregnancy journey.Proper nutrition remains a cornerstone for both mother and baby’s health.Regular prenatal check-ups ensure safety and early detection of potential issues.Additionally, staying active fosters physical well-being and helps manage stress.Women must continually educate themselves about pregnancy to make informed decisions.\\n\\nEmotional health plays a pivotal role during pregnancy.Building a support network of family and friends greatly benefits mental wellness.Engaging with local community groups offers encouragement and shared experiences.These connections can provide valuable insights and foster resilience.\\n\\nAs we wrap up, we encourage Nigerian women to seek knowledge and community support.Embrace available resources to navigate pregnancy confidently.Respect cultural practices while integrating modern medical advice into daily life.By balancing tradition with contemporary understandings, women can enhance their pregnancy experiences.\\n\\nFinally, remember that every pregnancy journey is unique.Celebrate your individual experiences and find joy in the process.Embrace the excitement, challenges, and triumphs of this remarkable phase.Empower yourself with information, connect with others, and cherish the beautiful moments ahead.\\n\\n\""
      ]
     },
     "execution_count": 4,
     "metadata": {},
     "output_type": "execute_result"
    }
   ],
   "source": [
    "get_data2(\"https://smartparenting.ng/women-pregnancy-tips/\")"
   ]
  },
  {
   "cell_type": "code",
   "execution_count": 5,
   "id": "7ecaa412",
   "metadata": {},
   "outputs": [],
   "source": [
    "#function 3 - websites have different structures, \n",
    "# so we need to create a new function to handle the different structure of the website\n",
    "def get_data3(url):\n",
    "    try:\n",
    "        import requests\n",
    "        from bs4 import BeautifulSoup\n",
    "        from urllib.parse import urlparse\n",
    "        import os\n",
    "\n",
    "        headers = {\"User-Agent\": \"Mozilla/5.0\"}\n",
    "        response = requests.get(url, headers=headers)\n",
    "        response.raise_for_status()\n",
    "\n",
    "        soup = BeautifulSoup(response.content, 'html.parser')\n",
    "\n",
    "        # Look for the main content div\n",
    "        sections = soup.find_all(\"div\", {\"data-testid\": \"tabbed-article-section\"})\n",
    "        if not sections:\n",
    "            print(\"❌ No article content found.\")\n",
    "            return None\n",
    "\n",
    "        # Extract text content from all paragraphs and headings\n",
    "        article_text = \"\"\n",
    "        for section in sections:\n",
    "            # Look for all paragraphs, headings and bullet points in this section\n",
    "            for tag in section.find_all(['h2', 'h3', 'p', 'li']):\n",
    "                text = tag.get_text(strip=True)\n",
    "                if not text:\n",
    "                    continue\n",
    "\n",
    "                if tag.name == 'h2':\n",
    "                    article_text += f\"\\n\\n## {text}\\n\\n\"\n",
    "                elif tag.name == 'h3':\n",
    "                    article_text += f\"\\n\\n### {text}\\n\\n\"\n",
    "                elif tag.name == 'li':\n",
    "                    article_text += f\"- {text}\\n\"\n",
    "                else:  # paragraph\n",
    "                    article_text += f\"{text}\\n\\n\"\n",
    "\n",
    "        # Generate file name\n",
    "        path = urlparse(url).path.strip('/')\n",
    "        file_name = path.replace('/', '_') or 'index'\n",
    "        file_path = f\"{file_name}.txt\"\n",
    "\n",
    "        data_folder = r\"C:\\Projects_ML\\AI-for-Maternal-HealthCare\\data\"\n",
    "        os.makedirs(data_folder, exist_ok=True)\n",
    "        full_path = os.path.join(data_folder, file_path)\n",
    "\n",
    "        with open(full_path, 'w', encoding='utf-8') as f:\n",
    "            f.write(article_text)\n",
    "\n",
    "        print(f\"✅ Data saved to {full_path}\")\n",
    "        return article_text\n",
    "\n",
    "    except Exception as e:\n",
    "        print(f\"❌ Error processing {url}: {str(e)}\")\n",
    "        return None"
   ]
  },
  {
   "cell_type": "code",
   "execution_count": 6,
   "id": "018f73ab",
   "metadata": {},
   "outputs": [
    {
     "name": "stdout",
     "output_type": "stream",
     "text": [
      "✅ Data saved to C:\\Projects_ML\\AI-for-Maternal-HealthCare\\data\\health_depression_how-to-deal-with-postpartum-depression.txt\n"
     ]
    },
    {
     "data": {
      "text/plain": [
       "'The period after you have your baby can be filled with countless emotions, including sadness. If your feelings of sadness become severe and start to interfere with your everyday life, you may be experiencing postpartum depression (PPD).\\n\\nSymptoms of postpartum depression (PPD) usually start within a few weeks of delivery, though they may develop up to 6 months afterward. They may include changes in mood, trouble bonding with your baby, and difficulty thinking or making decisions.\\n\\nIf you feel like you may be depressed, you aren’t alone. Many new parents experience depression after giving birth.\\n\\nThe most effective way to diagnose and treat PPD is by visiting your doctor. They can evaluate your symptoms and devise the best treatment plan for you. You may benefit from psychotherapy, antidepressants, or some combination of both.\\n\\nThere are also things you can do at home to help cope with everyday life. Keep reading for more on how to manage PPD.\\n\\n\\n\\n## 1. Exercise when you can\\n\\nResearchershave found that exercise is effective at reducing some of the symptoms of PPD. One review examined five studies and 6,141 participants and found that exercise was a statistically significant way to help improve postpartum depression. A2024 studyfound that walking was an effective way to reduce depression and anxiety.\\n\\nCan’t fit in a long exercise session? Try working out for 10 minutes a few times during the day.\\n\\n\\n\\n## 2. Maintain a healthy diet\\n\\nHealthy eating alone won’t cure PPD. Still, getting into the habit of eating nutritious foods can help you feel better and give your body the nutrients you need.\\n\\nTry planning the week’s meals on the weekend and even preparing healthy snacks ahead of time. Think whole foods that are easy to grab on the go, such as chopped carrots and cubed cheese or apple slices and peanut butter.\\n\\n\\n\\n## 3. Create time for yourself\\n\\nYou may feel stuck on the couch breastfeeding. Maybe you’re feeling overwhelmed by work, household responsibilities, or your older children. Instead of managing these stresses alone, reach out for help. Take up your mother-in-law on her offer of free babysitting. Let your partner or another trusted adult take the baby for an hour or 2.\\n\\nYou may find it helpful to schedule some dedicated “me time” once a week. Even if you can only get out of the house between nursing sessions, you can use this time to decompress. Go on a walk, take a nap, go to a movie, or do some yoga and meditation.\\n\\n\\n\\n## 4. Make time to rest\\n\\nYou’ve probably been told to “sleep when the baby sleeps.” This advice may get annoying after a while, but it’s rooted in science. A2023 survey studyof 1,409 postpartum women found that of these women, those with higher levels of fatigue, poor sleep quality, and low resilience levels were at the greatest risk of developing PPD.\\n\\nIn the early days, your baby likely isn’t sleeping through the night. You may find it helpful to take naps or go to bed early. If you’re breastfeeding, consider pumping a bottle so your partner can take care of an overnight feeding or two.\\n\\n\\n\\n## 5. Focus on fish oils\\n\\nNow is also a good time to beef up your intake of fatty acids.In a2019 Japanese study, researchers found that women with higher fish consumption and higher n-3 PUFA intake had a reduced risk of postpartum depression 6months after delivery.\\n\\nSeafood is an excellent dietary source of fatty acids. If you’re a vegetarian, flaxseed oil is another great source. You can also find supplements at your local grocery store.\\n\\n\\n\\n## 6. Examine your breastfeeding\\n\\nA  suggests that breastfeeding may reduce your risk of developing PPD. In this study, researchers found that breastfeeding was associated with a 14% lower risk risk of PPD.\\n\\nThat being said, there are some cases where women develop depression symptoms while nursing. This condition is calledDysmorphic Milk Ejection Reflex, or D-MER. With D-MER, you might experience sudden feelings of sadness, agitation, or anger that last several minutes after your milk lets down.\\n\\nIn the end, choose the feeding method that feels right to you.\\n\\n\\n\\n## 7. Resist isolation\\n\\nThe days may blend together, making you feel isolated at times. Astudy from 2022suggests that getting support from other new moms may help relieve some symptoms of PPD. Researchers found that new moms who received peer support even once a week for 3 months reported improvements in their PPD symptoms.\\n\\nLearn more aboutnatural remedies that may help relieve symptoms of postpartum depression.\\n\\n\\n\\n## When to see your doctor\\n\\nAlthough many women experience the “baby blues” in the first several weeks following delivery, PPD is marked by deeper and longer-lasting feelings of sadness and agitation. These feelings can get worse and become chronic depression without medical help.\\n\\nIt’s a good idea to make an appointment with your doctor if you notice feelings of depression after birth, especially if they don’t fade after a couple of weeks or get worse with time. Few women ever seek treatment for their symptoms, despite the importance of treatment. Your doctor can point you in the right direction to get the support you need.\\n\\n\\n\\n## Traditional treatments\\n\\nPsychotherapy is the treatment of choice for PPD. It involves speaking with a mental health professional about your thoughts and feelings. In your sessions, you can work on ways to cope and solve problems. You can also set goals and find ways to deal with different situations so that you feel better and more in control.\\n\\nIn more severe cases, your doctor may also suggest antidepressants. These medications may enter your breast milk but are generally considered safe for women who breastfeed. If you have any concerns about this, speak with your doctor. They can help you weigh the potential benefits and risks.\\n\\n\\n\\n## Developing a support network\\n\\nYou may find comfort in confiding in a close friend or family member. If you don’t want to share your feelings with people you know, there are other places you can turn to for support.\\n\\nYou can:\\n\\n- Call your OB-GYN, midwife, or another healthcare professional.\\n- If you participate in a faith community, speak with a leader.\\n- Find a nearby support group for parents with PPD.\\n- Join an online forum or group for parents with PPD likePostpartum Progress.\\n- Call the anonymous PSI postpartum depression hotline at 800-944-4773.\\n\\n\\n## Outlook\\n\\nPPD is treatable. Many women see their symptoms improve within 6 months.\\n\\nCall your doctor immediately if you feel disoriented or confused, have obsessive thoughts about your baby, feel paranoid, or experience hallucinations. These are signs of a more severe condition called postpartum psychosis.\\n\\nIf you’re having thoughts of suicide or thoughts about harming your baby, call your local emergency services.\\n\\nLearn more aboutmen who experience postpartum depression.\\n\\n'"
      ]
     },
     "execution_count": 6,
     "metadata": {},
     "output_type": "execute_result"
    }
   ],
   "source": [
    "get_data3(\"https://www.healthline.com/health/depression/how-to-deal-with-postpartum-depression\")"
   ]
  },
  {
   "cell_type": "code",
   "execution_count": null,
   "id": "8afd42c0",
   "metadata": {},
   "outputs": [],
   "source": []
  }
 ],
 "metadata": {
  "kernelspec": {
   "display_name": "venv",
   "language": "python",
   "name": "python3"
  },
  "language_info": {
   "codemirror_mode": {
    "name": "ipython",
    "version": 3
   },
   "file_extension": ".py",
   "mimetype": "text/x-python",
   "name": "python",
   "nbconvert_exporter": "python",
   "pygments_lexer": "ipython3",
   "version": "3.12.10"
  }
 },
 "nbformat": 4,
 "nbformat_minor": 5
}
